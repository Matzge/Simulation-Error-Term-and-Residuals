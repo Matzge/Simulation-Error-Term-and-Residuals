{
 "cells": [
  {
   "cell_type": "markdown",
   "metadata": {},
   "source": [
    "# Simulation of disturbance term and residuals.....\n",
    "\n",
    "I want to show the difference between the residuals and the disturbance term.\n",
    "Moreover, I show some properties of these two.\n",
    "\n",
    "## I assume i know the true model (we do not know that generally):\n",
    "\n",
    "$ Y =\\beta_1 + \\beta_2*X +u$ <br>\n",
    "**Coefficents of the true Model: <br>\n",
    "$\\beta_1 = 0$** <br>\n",
    "$\\beta_2 = 1$ <br>\n",
    "\n",
    "&rarr; I calculate some Values for the true population regression model, which includes the random\n",
    "error term $u$. <br><br>\n",
    "&rarr; I use the generated Values to calculate an estimated model for those observations. <br><br>\n",
    "&rarr; I show that the estimated model is not equal to the true model. <br><br>\n",
    "&rarr; I sum all \n",
    "residuals and all errors to show that the sum of errors is none zero \n",
    "and the sum of residuals is zero.<br><br>\n",
    "\n",
    "**Unfortunately I got some imprecision due to rounding of coefficents in the regression output (only 4 digits).\n",
    "Thus, i have to round my sum of regression on 3 digits as it is calculated by those imprecise coeffictens.**\n"
   ]
  },
  {
   "cell_type": "code",
   "execution_count": 95,
   "metadata": {},
   "outputs": [
    {
     "name": "stdout",
     "output_type": "stream",
     "text": [
      "                            OLS Regression Results                            \n",
      "==============================================================================\n",
      "Dep. Variable:                      y   R-squared:                       0.783\n",
      "Model:                            OLS   Adj. R-squared:                  0.674\n",
      "Method:                 Least Squares   F-statistic:                     7.213\n",
      "Date:                Mon, 08 Jul 2019   Prob (F-statistic):              0.115\n",
      "Time:                        20:51:09   Log-Likelihood:                -4.9148\n",
      "No. Observations:                   4   AIC:                             13.83\n",
      "Df Residuals:                       2   BIC:                             12.60\n",
      "Df Model:                           1                                         \n",
      "Covariance Type:            nonrobust                                         \n",
      "==============================================================================\n",
      "                 coef    std err          t      P>|t|      [0.025      0.975]\n",
      "------------------------------------------------------------------------------\n",
      "const         -1.4472      0.978     -1.479      0.277      -5.656       2.762\n",
      "x1             1.4043      0.523      2.686      0.115      -0.845       3.654\n",
      "==============================================================================\n",
      "Omnibus:                          nan   Durbin-Watson:                   2.521\n",
      "Prob(Omnibus):                    nan   Jarque-Bera (JB):                0.493\n",
      "Skew:                           0.708   Prob(JB):                        0.781\n",
      "Kurtosis:                       2.024   Cond. No.                         3.76\n",
      "==============================================================================\n",
      "\n",
      "Warnings:\n",
      "[1] Standard Errors assume that the covariance matrix of the errors is correctly specified.\n",
      "\n",
      "\n",
      "The actual Vaules Y_i\n",
      "[-2.327836651871611, 1.2889916342296943, 1.3394880625056182, 2.3364548788443256] \n",
      "\n",
      "The error u_i\n",
      "[-2.327836651871611, 0.2889916342296943, -0.6605119374943818, -0.6635451211556744] \n",
      "\n",
      "Sum of errors:  -3.362902076291973\n"
     ]
    },
    {
     "name": "stderr",
     "output_type": "stream",
     "text": [
      "/home/matthias/.local/lib/python3.7/site-packages/statsmodels/stats/stattools.py:72: ValueWarning: omni_normtest is not valid with less than 8 observations; 4 samples were given.\n",
      "  \"samples were given.\" % int(n), ValueWarning)\n"
     ]
    }
   ],
   "source": [
    "import pandas as pd\n",
    "import matplotlib.pyplot as plt\n",
    "import numpy as np\n",
    "from sklearn.linear_model import LinearRegression\n",
    "import statsmodels.api as sm\n",
    "\n",
    "list_y = [] \n",
    "list_x = []\n",
    "list_error = []\n",
    "list_residuals = []\n",
    "\n",
    "\"\"\"\n",
    "Gererating observations based on the true model-\n",
    "\"\"\"\n",
    "\n",
    "for i in range(0, 4):\n",
    "    list_x.append(i)\n",
    "    y = i + np.random.normal(0, 1)\n",
    "    list_y.append(y)\n",
    "\n",
    "    \n",
    "\"\"\"\n",
    "Computing the estimated Regression model for the generated values.\n",
    "\"\"\"\n",
    "list_x = sm.add_constant(list_x)\n",
    "model = sm.OLS(list_y,list_x).fit()\n",
    "predictions = model.predict(list_x)\n",
    "print(model.summary())\n",
    "print(\"\\n\")\n",
    "\n",
    "\n",
    "\n",
    "print(\"The actual Vaules Y_i\")\n",
    "print(list_y, \"\\n\")\n",
    "\n",
    "\"\"\"\n",
    "Calculating the error u_i\n",
    "\"\"\"\n",
    "\n",
    "for k in range(len(list_y)):                 # I calculate the errors as the difference between my actual values \n",
    "    error = list_y[k] - list_x[k][1]         # from the values i got of by the model....\n",
    "    list_error.append(error)\n",
    "\n",
    "    \n",
    "print(\"The error u_i\")    \n",
    "print(list_error,\"\\n\")\n",
    "\n",
    "\n",
    "\n",
    "print(\"Sum of errors: \", sum(list_error))\n"
   ]
  },
  {
   "cell_type": "markdown",
   "metadata": {},
   "source": [
    "# Estimated Model\n",
    "\n",
    "**Clearly the sum of Errors is always unequal to zero, whereas the sum of residuals of the model\n",
    "have to be zero by construction of our model, which we estimate based on the generated observations** <br>\n",
    "<br>\n",
    "\n",
    "I take the generated observations of the true population regression and use that observations to estimate the model I would have to construct when I would not know the true model...<br>\n",
    "See table of regression for the estimated coefficents for the observations.\n"
   ]
  },
  {
   "cell_type": "code",
   "execution_count": 96,
   "metadata": {},
   "outputs": [
    {
     "name": "stdout",
     "output_type": "stream",
     "text": [
      "The actual Vaules Y_i\n",
      "[-2.327836651871611, 1.2889916342296943, 1.3394880625056182, 2.3364548788443256] \n",
      "\n",
      "The predicted Vaules Y^_i\n",
      "[-1.4472, -0.04289999999999994, 1.3614000000000002, 2.7657000000000003] \n",
      "\n",
      "The residuals  Y_i - Y^_i\n",
      "[-0.8806366518716109, 1.3318916342296943, -0.021911937494381917, -0.4292451211556747] \n",
      "\n",
      "Sum of residuals:  0.0\n"
     ]
    }
   ],
   "source": [
    "list_y = [-2.327836651871611, 1.2889916342296943, 1.3394880625056182, 2.3364548788443256]\n",
    "list_predicted_y = []\n",
    "list_residuals = []\n",
    "    \n",
    "for t in range(len(list_y)):\n",
    "    predicted_y = (1.4043)*t -1.4472\n",
    "    list_predicted_y.append(predicted_y)\n",
    "    \n",
    "\n",
    "for k in range(len(list_y)):\n",
    "    residual = list_y[k] - list_predicted_y[k]\n",
    "    list_residuals.append(residual)\n",
    "    #print(residual)\n",
    "    \n",
    "print(\"The actual Vaules Y_i\")\n",
    "print(list_y,\"\\n\")\n",
    "print(\"The predicted Vaules Y^_i\")\n",
    "print(list_predicted_y, \"\\n\")\n",
    "print(\"The residuals  Y_i - Y^_i\")\n",
    "print(list_residuals, \"\\n\")\n",
    "\n",
    "\n",
    "#print(\"Sum of the residuals\", sum_residuals)\n",
    "#print(list_predicted_y[0] + list_residuals[0] - list_y[0])\n",
    "\n",
    "sum_residuals = (sum(list_residuals))\n",
    "\n",
    "sum_residuals = round(sum_residuals,3)\n",
    "print(\"Sum of residuals: \", sum_residuals)"
   ]
  },
  {
   "cell_type": "markdown",
   "metadata": {},
   "source": [
    "# Summary\n",
    "\n",
    "Clearly the sum of residuals is smaller than the sum of disturbances. The only reason it is not zero is that\n",
    "I had to take a coefficient from the regression which is a rounded value.....<br><br>\n",
    "\n",
    "I hope this shows the difference between the error term and the residual."
   ]
  },
  {
   "cell_type": "code",
   "execution_count": null,
   "metadata": {},
   "outputs": [],
   "source": []
  }
 ],
 "metadata": {
  "kernelspec": {
   "display_name": "Python 3",
   "language": "python",
   "name": "python3"
  },
  "language_info": {
   "codemirror_mode": {
    "name": "ipython",
    "version": 3
   },
   "file_extension": ".py",
   "mimetype": "text/x-python",
   "name": "python",
   "nbconvert_exporter": "python",
   "pygments_lexer": "ipython3",
   "version": "3.7.3"
  }
 },
 "nbformat": 4,
 "nbformat_minor": 2
}
