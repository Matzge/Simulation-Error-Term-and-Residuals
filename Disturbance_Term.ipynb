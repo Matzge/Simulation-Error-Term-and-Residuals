{
 "cells": [
  {
   "cell_type": "markdown",
   "metadata": {},
   "source": [
    "<center>\n",
    "\n",
    "# Matthias Müllner\n",
    "\n",
    "## University of Graz\n",
    "## Center for Accounting Research\n",
    "</center>"
   ]
  },
  {
   "cell_type": "markdown",
   "metadata": {},
   "source": [
    "# Simulation of disturbance term and residuals.....\n",
    "\n",
    "I want to show the difference between the residuals and the disturbance term.\n",
    "Moreover, I show some properties of these two.\n",
    "\n",
    "## I assume i know the true model (we do not know that generally):\n",
    "\n",
    "$ Y =\\beta_1 + \\beta_2*X +u$ <br>\n",
    "**Coefficents of the true Model: <br>\n",
    "$\\beta_1 = 0$** <br>\n",
    "$\\beta_2 = 1$ <br>\n",
    "\n",
    "&rarr; I calculate some Values for the true population regression model, which includes the random\n",
    "error term $u$. <br><br>\n",
    "&rarr; I use the generated Values to calculate an estimated model for those observations. <br><br>\n",
    "&rarr; I show that the estimated model is not equal to the true model. <br><br>\n",
    "&rarr; I sum all \n",
    "residuals and all errors to show that the sum of errors is none zero \n",
    "and the sum of residuals is zero.<br><br>\n",
    "\n",
    "**Unfortunately I got some imprecision due to rounding of coefficents in the regression output (only 4 digits).\n",
    "Thus, i have to round my sum of residuals on 3 digits as it is calculated by those imprecise coeffictens.**\n"
   ]
  },
  {
   "cell_type": "code",
   "execution_count": 4,
   "metadata": {},
   "outputs": [
    {
     "name": "stdout",
     "output_type": "stream",
     "text": [
      "                            OLS Regression Results                            \n",
      "==============================================================================\n",
      "Dep. Variable:                      y   R-squared:                       0.471\n",
      "Model:                            OLS   Adj. R-squared:                  0.207\n",
      "Method:                 Least Squares   F-statistic:                     1.781\n",
      "Date:                Tue, 09 Jul 2019   Prob (F-statistic):              0.314\n",
      "Time:                        06:09:27   Log-Likelihood:                -6.9628\n",
      "No. Observations:                   4   AIC:                             17.93\n",
      "Df Residuals:                       2   BIC:                             16.70\n",
      "Df Model:                           1                                         \n",
      "Covariance Type:            nonrobust                                         \n",
      "==============================================================================\n",
      "                 coef    std err          t      P>|t|      [0.025      0.975]\n",
      "------------------------------------------------------------------------------\n",
      "const         -0.0058      1.632     -0.004      0.997      -7.029       7.017\n",
      "x1             1.1644      0.873      1.335      0.314      -2.590       4.918\n",
      "==============================================================================\n",
      "Omnibus:                          nan   Durbin-Watson:                   2.951\n",
      "Prob(Omnibus):                    nan   Jarque-Bera (JB):                0.684\n",
      "Skew:                           0.923   Prob(JB):                        0.710\n",
      "Kurtosis:                       2.167   Cond. No.                         3.76\n",
      "==============================================================================\n",
      "\n",
      "Warnings:\n",
      "[1] Standard Errors assume that the covariance matrix of the errors is correctly specified.\n",
      "\n",
      "\n",
      "The actual Vaules Y_i\n",
      "[-0.2784233392786158, 0.41407936653619914, 4.6296882407079725, 2.19776896471927] \n",
      "\n",
      "The error u_i\n",
      "[-0.2784233392786158, -0.5859206334638009, 2.6296882407079725, -0.8022310352807298] \n",
      "\n",
      "Sum of errors:  0.963113232684826\n"
     ]
    },
    {
     "name": "stderr",
     "output_type": "stream",
     "text": [
      "/home/matthias/.local/lib/python3.7/site-packages/statsmodels/stats/stattools.py:72: ValueWarning: omni_normtest is not valid with less than 8 observations; 4 samples were given.\n",
      "  \"samples were given.\" % int(n), ValueWarning)\n"
     ]
    }
   ],
   "source": [
    "import pandas as pd\n",
    "import matplotlib.pyplot as plt\n",
    "import numpy as np\n",
    "from sklearn.linear_model import LinearRegression\n",
    "import statsmodels.api as sm\n",
    "\n",
    "list_y = [] \n",
    "list_x = []\n",
    "list_error = []\n",
    "list_residuals = []\n",
    "\n",
    "\"\"\"\n",
    "Gererating observations based on the true model-\n",
    "\"\"\"\n",
    "\n",
    "for i in range(0, 4):\n",
    "    list_x.append(i)\n",
    "    y = i + np.random.normal(0, 1)\n",
    "    list_y.append(y)\n",
    "\n",
    "    \n",
    "\"\"\"\n",
    "Computing the estimated Regression model for the generated values.\n",
    "\"\"\"\n",
    "list_x = sm.add_constant(list_x)\n",
    "model = sm.OLS(list_y,list_x).fit()\n",
    "predictions = model.predict(list_x)\n",
    "print(model.summary())\n",
    "print(\"\\n\")\n",
    "\n",
    "\n",
    "\n",
    "print(\"The actual Vaules Y_i\")\n",
    "print(list_y, \"\\n\")\n",
    "\n",
    "\"\"\"\n",
    "Calculating the error u_i\n",
    "\"\"\"\n",
    "\n",
    "for k in range(len(list_y)):                 # I calculate the errors as the difference between my actual values \n",
    "    error = list_y[k] - list_x[k][1]         # from the values i got of by the model....\n",
    "    list_error.append(error)\n",
    "\n",
    "    \n",
    "print(\"The error u_i\")    \n",
    "print(list_error,\"\\n\")\n",
    "\n",
    "\n",
    "\n",
    "print(\"Sum of errors: \", sum(list_error))\n"
   ]
  },
  {
   "cell_type": "markdown",
   "metadata": {},
   "source": [
    "# Estimated Model\n",
    "\n",
    "**Clearly the sum of Errors is always unequal to zero, whereas the sum of residuals of the model\n",
    "have to be zero by construction of our model, which we estimate based on the generated observations** <br>\n",
    "<br>\n",
    "\n",
    "I take the generated observations of the true population regression and use that observations to estimate the model I would have to construct when I would not know the true model...<br>\n",
    "See table of regression for the estimated coefficents for the observations.\n"
   ]
  },
  {
   "cell_type": "code",
   "execution_count": 2,
   "metadata": {},
   "outputs": [
    {
     "name": "stdout",
     "output_type": "stream",
     "text": [
      "The actual Vaules Y_i\n",
      "[-0.2784233392786158, 0.41407936653619914, 4.6296882407079725, 2.19776896471927] \n",
      "\n",
      "The predicted Vaules Y^_i\n",
      "[-0.0058, 1.1586, 2.3230000000000004, 3.4874000000000005] \n",
      "\n",
      "The residuals u^_i = Y_i - Y^_i\n",
      "[-0.2726233392786158, -0.7445206334638009, 2.306688240707972, -1.2896310352807303] \n",
      "\n",
      "Sum of residuals:  -8.676731517498482e-05\n"
     ]
    }
   ],
   "source": [
    "list_y = [-0.2784233392786158, 0.41407936653619914, 4.6296882407079725, 2.19776896471927] \n",
    "list_residuals = []\n",
    "list_predicted_y = []\n",
    "    \n",
    "for t in range(len(list_y)):\n",
    "    predicted_y = (1.1644)*t -0.0058\n",
    "    list_predicted_y.append(predicted_y)\n",
    "    \n",
    "\n",
    "for k in range(len(list_y)):\n",
    "    residual = list_y[k] - list_predicted_y[k]\n",
    "    list_residuals.append(residual)\n",
    "    #print(residual)\n",
    "    \n",
    "print(\"The actual Vaules Y_i\")\n",
    "print(list_y,\"\\n\")\n",
    "print(\"The predicted Vaules Y^_i\")\n",
    "print(list_predicted_y, \"\\n\")\n",
    "print(\"The residuals u^_i = Y_i - Y^_i\")\n",
    "print(list_residuals, \"\\n\")\n",
    "\n",
    "\n",
    "#print(\"Sum of the residuals\", sum_residuals)\n",
    "#print(list_predicted_y[0] + list_residuals[0] - list_y[0])\n",
    "\n",
    "sum_residuals = (sum(list_residuals))\n",
    "\n",
    "#sum_residuals = round(sum_residuals,3)\n",
    "print(\"Sum of residuals: \", sum_residuals)"
   ]
  },
  {
   "cell_type": "markdown",
   "metadata": {},
   "source": [
    "# The sum of residuals = 0\n",
    "\n",
    "\n",
    "<br>\n",
    "Clearly $(\\sum_{k=i}^{N} u_i)$ = 0"
   ]
  },
  {
   "cell_type": "markdown",
   "metadata": {},
   "source": [
    "# Plotting the equations\n",
    "\n",
    "Here is also some plot for: <br>\n",
    "\n",
    "**&rarr; The True Model <br>\n",
    "&rarr; The Estimated Model**\n"
   ]
  },
  {
   "cell_type": "code",
   "execution_count": 4,
   "metadata": {},
   "outputs": [
    {
     "data": {
      "text/plain": [
       "Text(0, 0.5, 'Y')"
      ]
     },
     "execution_count": 4,
     "metadata": {},
     "output_type": "execute_result"
    },
    {
     "data": {
      "image/png": "[encoded data removed]",
      "text/plain": [
       "<Figure size 432x288 with 1 Axes>"
      ]
     },
     "metadata": {
      "needs_background": "light"
     },
     "output_type": "display_data"
    }
   ],
   "source": [
    "import matplotlib.pyplot as plt\n",
    "\n",
    "list_y = [-0.2784233392786158, 0.41407936653619914, 4.6296882407079725, 2.19776896471927] \n",
    "list_x = [0,1,2,3]\n",
    "list_predicted_y = [-0.0058, 1.1586, 2.3230000000000004, 3.4874000000000005]\n",
    "\n",
    "\n",
    "plt.plot(list_x, list_y, \"ro\") #actual y\n",
    "plt.plot(list_x, list_predicted_y, \"grey\") #edtimated model\n",
    "plt.plot(list_x, list_x, \"black\") #true model\n",
    "\n",
    "plt.xlabel(\"X\")\n",
    "plt.ylabel(\"Y\")"
   ]
  },
  {
   "cell_type": "markdown",
   "metadata": {},
   "source": [
    "# Summary\n",
    "\n",
    "Clearly the sum of residuals is smaller than the sum of disturbances. The only reason it is not zero is that\n",
    "I had to take a coefficient from the regression which is a rounded value.....<br><br>\n",
    "\n",
    "I hope this shows the difference between the error term and the residual."
   ]
  }
 ],
 "metadata": {
  "kernelspec": {
   "display_name": "Python 3",
   "language": "python",
   "name": "python3"
  },
  "language_info": {
   "codemirror_mode": {
    "name": "ipython",
    "version": 3
   },
   "file_extension": ".py",
   "mimetype": "text/x-python",
   "name": "python",
   "nbconvert_exporter": "python",
   "pygments_lexer": "ipython3",
   "version": "3.7.3"
  }
 },
 "nbformat": 4,
 "nbformat_minor": 2
}
